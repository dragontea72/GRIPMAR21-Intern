{
  "nbformat": 4,
  "nbformat_minor": 0,
  "metadata": {
    "colab": {
      "name": "Task_1 Prediction using supervised ML_With Python.ipynb",
      "provenance": []
    },
    "kernelspec": {
      "name": "python3",
      "display_name": "Python 3"
    }
  },
  "cells": [
    {
      "cell_type": "markdown",
      "metadata": {
        "id": "uEMbK7hsZfPe"
      },
      "source": [
        "#GRIPMAR21 The Sparks Foundation"
      ]
    },
    {
      "cell_type": "markdown",
      "metadata": {
        "id": "lRV6qCvclRMT"
      },
      "source": [
        "#Author: Riadul Islam Rabbi"
      ]
    },
    {
      "cell_type": "markdown",
      "metadata": {
        "id": "GkAEXs4zRfn4"
      },
      "source": [
        "###Supervised Machine Learning\r\n"
      ]
    },
    {
      "cell_type": "markdown",
      "metadata": {
        "id": "7M_LZcM-RmYK"
      },
      "source": [
        "Supervised learning is the machine learning task of learning a function that maps an input to an output based on example input-output pairs. It is two types first one regression and the second one classification. Problems will be outcome-based which is dependent on continuous and discrete variables."
      ]
    },
    {
      "cell_type": "markdown",
      "metadata": {
        "id": "M8CIRrTelXn3"
      },
      "source": [
        "##Problem Statement: Predict the percentage of an student based on the no. of study hours. "
      ]
    },
    {
      "cell_type": "markdown",
      "metadata": {
        "id": "C_0CI4evlm68"
      },
      "source": [
        "###This is a simple linear regression task as it involves just 2 variables."
      ]
    },
    {
      "cell_type": "markdown",
      "metadata": {
        "id": "lg8FhAHKPT6z"
      },
      "source": [
        "<p> We know that the linear formula is <b> Y = mX + C</b> which is linearly fit with the data. Here, m (slope) is coefficient value which is multiplied by X variable , C is the Y intercept value</p>"
      ]
    },
    {
      "cell_type": "markdown",
      "metadata": {
        "id": "9-zd5mgFlxAx"
      },
      "source": [
        "##Importing Libraries"
      ]
    },
    {
      "cell_type": "code",
      "metadata": {
        "id": "apOY6dK1krJ_"
      },
      "source": [
        "import warnings\r\n",
        "warnings.filterwarnings(\"ignore\")\r\n",
        "\r\n",
        "import numpy as np\r\n",
        "import pandas as pd\r\n",
        "import matplotlib.pyplot as plt\r\n",
        "import seaborn as sns\r\n",
        "%matplotlib inline\r\n",
        "\r\n",
        "from sklearn.model_selection  import train_test_split\r\n",
        "from sklearn.linear_model import LinearRegression\r\n",
        "from sklearn.metrics import mean_absolute_error, mean_squared_error\r\n",
        "\r\n"
      ],
      "execution_count": null,
      "outputs": []
    },
    {
      "cell_type": "markdown",
      "metadata": {
        "id": "O8ZhgKFdmFq5"
      },
      "source": [
        "###Data load"
      ]
    },
    {
      "cell_type": "code",
      "metadata": {
        "colab": {
          "base_uri": "https://localhost:8080/",
          "height": 204
        },
        "id": "JhOFe06mmCvG",
        "outputId": "7bfbd2c8-d66c-4daf-c327-238111b7e343"
      },
      "source": [
        "data = pd.read_csv('https://raw.githubusercontent.com/AdiPersonalWorks/Random/master/student_scores%20-%20student_scores.csv')\r\n",
        "data.head() # first five rows showing"
      ],
      "execution_count": null,
      "outputs": [
        {
          "output_type": "execute_result",
          "data": {
            "text/html": [
              "<div>\n",
              "<style scoped>\n",
              "    .dataframe tbody tr th:only-of-type {\n",
              "        vertical-align: middle;\n",
              "    }\n",
              "\n",
              "    .dataframe tbody tr th {\n",
              "        vertical-align: top;\n",
              "    }\n",
              "\n",
              "    .dataframe thead th {\n",
              "        text-align: right;\n",
              "    }\n",
              "</style>\n",
              "<table border=\"1\" class=\"dataframe\">\n",
              "  <thead>\n",
              "    <tr style=\"text-align: right;\">\n",
              "      <th></th>\n",
              "      <th>Hours</th>\n",
              "      <th>Scores</th>\n",
              "    </tr>\n",
              "  </thead>\n",
              "  <tbody>\n",
              "    <tr>\n",
              "      <th>0</th>\n",
              "      <td>2.5</td>\n",
              "      <td>21</td>\n",
              "    </tr>\n",
              "    <tr>\n",
              "      <th>1</th>\n",
              "      <td>5.1</td>\n",
              "      <td>47</td>\n",
              "    </tr>\n",
              "    <tr>\n",
              "      <th>2</th>\n",
              "      <td>3.2</td>\n",
              "      <td>27</td>\n",
              "    </tr>\n",
              "    <tr>\n",
              "      <th>3</th>\n",
              "      <td>8.5</td>\n",
              "      <td>75</td>\n",
              "    </tr>\n",
              "    <tr>\n",
              "      <th>4</th>\n",
              "      <td>3.5</td>\n",
              "      <td>30</td>\n",
              "    </tr>\n",
              "  </tbody>\n",
              "</table>\n",
              "</div>"
            ],
            "text/plain": [
              "   Hours  Scores\n",
              "0    2.5      21\n",
              "1    5.1      47\n",
              "2    3.2      27\n",
              "3    8.5      75\n",
              "4    3.5      30"
            ]
          },
          "metadata": {
            "tags": []
          },
          "execution_count": 2
        }
      ]
    },
    {
      "cell_type": "markdown",
      "metadata": {
        "id": "6JBoT3i8mXjz"
      },
      "source": [
        "##EDA(Exploratory Data Analysis) and Data Preparation"
      ]
    },
    {
      "cell_type": "code",
      "metadata": {
        "colab": {
          "base_uri": "https://localhost:8080/"
        },
        "id": "6xgN9G6LmPrh",
        "outputId": "90ebbf96-e747-4029-d480-81d5c2ff0a63"
      },
      "source": [
        "data.columns ## showing column names"
      ],
      "execution_count": null,
      "outputs": [
        {
          "output_type": "execute_result",
          "data": {
            "text/plain": [
              "Index(['Hours', 'Scores'], dtype='object')"
            ]
          },
          "metadata": {
            "tags": []
          },
          "execution_count": 3
        }
      ]
    },
    {
      "cell_type": "code",
      "metadata": {
        "colab": {
          "base_uri": "https://localhost:8080/"
        },
        "id": "T5IFNzvpmSUA",
        "outputId": "3f01425b-2684-4ad0-ed73-26426a4a041c"
      },
      "source": [
        "data.shape ## shape of dataset rows and columns "
      ],
      "execution_count": null,
      "outputs": [
        {
          "output_type": "execute_result",
          "data": {
            "text/plain": [
              "(25, 2)"
            ]
          },
          "metadata": {
            "tags": []
          },
          "execution_count": 4
        }
      ]
    },
    {
      "cell_type": "code",
      "metadata": {
        "colab": {
          "base_uri": "https://localhost:8080/"
        },
        "id": "_l-56iHYmUtV",
        "outputId": "33dd50f5-879b-4d69-82fc-90d5f700b231"
      },
      "source": [
        "data.size ## whole dataset size "
      ],
      "execution_count": null,
      "outputs": [
        {
          "output_type": "execute_result",
          "data": {
            "text/plain": [
              "50"
            ]
          },
          "metadata": {
            "tags": []
          },
          "execution_count": 5
        }
      ]
    },
    {
      "cell_type": "code",
      "metadata": {
        "colab": {
          "base_uri": "https://localhost:8080/"
        },
        "id": "H68SECQMmjwe",
        "outputId": "310ec569-766c-424c-dae5-3d41c89724f2"
      },
      "source": [
        "data.info() # By using info method knowing about whole dataset "
      ],
      "execution_count": null,
      "outputs": [
        {
          "output_type": "stream",
          "text": [
            "<class 'pandas.core.frame.DataFrame'>\n",
            "RangeIndex: 25 entries, 0 to 24\n",
            "Data columns (total 2 columns):\n",
            " #   Column  Non-Null Count  Dtype  \n",
            "---  ------  --------------  -----  \n",
            " 0   Hours   25 non-null     float64\n",
            " 1   Scores  25 non-null     int64  \n",
            "dtypes: float64(1), int64(1)\n",
            "memory usage: 528.0 bytes\n"
          ],
          "name": "stdout"
        }
      ]
    },
    {
      "cell_type": "code",
      "metadata": {
        "colab": {
          "base_uri": "https://localhost:8080/"
        },
        "id": "ORym1OsYms0Z",
        "outputId": "3c386a86-677c-41f4-d5fe-33373b027f96"
      },
      "source": [
        "data.isnull().sum() # By this method, here no missing values"
      ],
      "execution_count": null,
      "outputs": [
        {
          "output_type": "execute_result",
          "data": {
            "text/plain": [
              "Hours     0\n",
              "Scores    0\n",
              "dtype: int64"
            ]
          },
          "metadata": {
            "tags": []
          },
          "execution_count": 7
        }
      ]
    },
    {
      "cell_type": "code",
      "metadata": {
        "colab": {
          "base_uri": "https://localhost:8080/",
          "height": 297
        },
        "id": "tfqv_i5TmxJH",
        "outputId": "9ce5a2d2-15cf-45b4-99b2-bfb9f53c3aaf"
      },
      "source": [
        "data.describe() ## describe() function can describe statistics  function"
      ],
      "execution_count": null,
      "outputs": [
        {
          "output_type": "execute_result",
          "data": {
            "text/html": [
              "<div>\n",
              "<style scoped>\n",
              "    .dataframe tbody tr th:only-of-type {\n",
              "        vertical-align: middle;\n",
              "    }\n",
              "\n",
              "    .dataframe tbody tr th {\n",
              "        vertical-align: top;\n",
              "    }\n",
              "\n",
              "    .dataframe thead th {\n",
              "        text-align: right;\n",
              "    }\n",
              "</style>\n",
              "<table border=\"1\" class=\"dataframe\">\n",
              "  <thead>\n",
              "    <tr style=\"text-align: right;\">\n",
              "      <th></th>\n",
              "      <th>Hours</th>\n",
              "      <th>Scores</th>\n",
              "    </tr>\n",
              "  </thead>\n",
              "  <tbody>\n",
              "    <tr>\n",
              "      <th>count</th>\n",
              "      <td>25.000000</td>\n",
              "      <td>25.000000</td>\n",
              "    </tr>\n",
              "    <tr>\n",
              "      <th>mean</th>\n",
              "      <td>5.012000</td>\n",
              "      <td>51.480000</td>\n",
              "    </tr>\n",
              "    <tr>\n",
              "      <th>std</th>\n",
              "      <td>2.525094</td>\n",
              "      <td>25.286887</td>\n",
              "    </tr>\n",
              "    <tr>\n",
              "      <th>min</th>\n",
              "      <td>1.100000</td>\n",
              "      <td>17.000000</td>\n",
              "    </tr>\n",
              "    <tr>\n",
              "      <th>25%</th>\n",
              "      <td>2.700000</td>\n",
              "      <td>30.000000</td>\n",
              "    </tr>\n",
              "    <tr>\n",
              "      <th>50%</th>\n",
              "      <td>4.800000</td>\n",
              "      <td>47.000000</td>\n",
              "    </tr>\n",
              "    <tr>\n",
              "      <th>75%</th>\n",
              "      <td>7.400000</td>\n",
              "      <td>75.000000</td>\n",
              "    </tr>\n",
              "    <tr>\n",
              "      <th>max</th>\n",
              "      <td>9.200000</td>\n",
              "      <td>95.000000</td>\n",
              "    </tr>\n",
              "  </tbody>\n",
              "</table>\n",
              "</div>"
            ],
            "text/plain": [
              "           Hours     Scores\n",
              "count  25.000000  25.000000\n",
              "mean    5.012000  51.480000\n",
              "std     2.525094  25.286887\n",
              "min     1.100000  17.000000\n",
              "25%     2.700000  30.000000\n",
              "50%     4.800000  47.000000\n",
              "75%     7.400000  75.000000\n",
              "max     9.200000  95.000000"
            ]
          },
          "metadata": {
            "tags": []
          },
          "execution_count": 9
        }
      ]
    },
    {
      "cell_type": "code",
      "metadata": {
        "colab": {
          "base_uri": "https://localhost:8080/"
        },
        "id": "ppDhUlHlm19T",
        "outputId": "ea2f99f1-cd54-4855-8a9b-b9620cd18853"
      },
      "source": [
        "data.mean() # By mean() method we can know each columns average value"
      ],
      "execution_count": null,
      "outputs": [
        {
          "output_type": "execute_result",
          "data": {
            "text/plain": [
              "Hours      5.012\n",
              "Scores    51.480\n",
              "dtype: float64"
            ]
          },
          "metadata": {
            "tags": []
          },
          "execution_count": 10
        }
      ]
    },
    {
      "cell_type": "code",
      "metadata": {
        "colab": {
          "base_uri": "https://localhost:8080/"
        },
        "id": "enTUQyhPm88-",
        "outputId": "f3966908-7900-4037-ba73-58b0982b08cd"
      },
      "source": [
        "data.std()"
      ],
      "execution_count": null,
      "outputs": [
        {
          "output_type": "execute_result",
          "data": {
            "text/plain": [
              "Hours      2.525094\n",
              "Scores    25.286887\n",
              "dtype: float64"
            ]
          },
          "metadata": {
            "tags": []
          },
          "execution_count": 11
        }
      ]
    },
    {
      "cell_type": "code",
      "metadata": {
        "colab": {
          "base_uri": "https://localhost:8080/"
        },
        "id": "jDqihSdEnAe2",
        "outputId": "645e4e70-0a5a-41b1-9eff-4908982bd100"
      },
      "source": [
        "data.var()"
      ],
      "execution_count": null,
      "outputs": [
        {
          "output_type": "execute_result",
          "data": {
            "text/plain": [
              "Hours       6.376100\n",
              "Scores    639.426667\n",
              "dtype: float64"
            ]
          },
          "metadata": {
            "tags": []
          },
          "execution_count": 13
        }
      ]
    },
    {
      "cell_type": "markdown",
      "metadata": {
        "id": "u235dSyhnU1J"
      },
      "source": [
        "####Data Visualization"
      ]
    },
    {
      "cell_type": "markdown",
      "metadata": {
        "id": "0MFLZZb3OTh9"
      },
      "source": [
        "Let's plot our data points on 2-D graph to eyeball our dataset and see if we can manually find any relationship between the data. We can create the plot with the following script:"
      ]
    },
    {
      "cell_type": "code",
      "metadata": {
        "colab": {
          "base_uri": "https://localhost:8080/",
          "height": 279
        },
        "id": "5FLIRRE8niVP",
        "outputId": "654e56b7-d6da-4949-853d-24558bcddd83"
      },
      "source": [
        "sns.scatterplot(data.Hours, data.Scores)\r\n",
        "plt.title('Scores vs Hours')\r\n",
        "plt.show()"
      ],
      "execution_count": null,
      "outputs": [
        {
          "output_type": "display_data",
          "data": {
            "image/png": "[encoded data removed]",
            "text/plain": [
              "<Figure size 432x288 with 1 Axes>"
            ]
          },
          "metadata": {
            "tags": [],
            "needs_background": "light"
          }
        }
      ]
    },
    {
      "cell_type": "markdown",
      "metadata": {
        "id": "wMNM5mWUOa2C"
      },
      "source": [
        "From the graph above, we can clearly see that there is a positive linear relation between the number of hours studied and percentage of score."
      ]
    },
    {
      "cell_type": "markdown",
      "metadata": {
        "id": "tIG73m7rNWuC"
      },
      "source": [
        "###Separated by feature columns(inputs) and target column (Output)"
      ]
    },
    {
      "cell_type": "code",
      "metadata": {
        "id": "2MS6rDaqo3Ru"
      },
      "source": [
        "X = data.drop('Scores', axis=1)\r\n",
        "y = data.Scores"
      ],
      "execution_count": null,
      "outputs": []
    },
    {
      "cell_type": "markdown",
      "metadata": {
        "id": "7YYvm5Gsopd3"
      },
      "source": [
        "###Trail Test Split"
      ]
    },
    {
      "cell_type": "code",
      "metadata": {
        "id": "ip1vwANYo2RF"
      },
      "source": [
        ""
      ],
      "execution_count": null,
      "outputs": []
    },
    {
      "cell_type": "markdown",
      "metadata": {
        "id": "vK71ix0pOmuH"
      },
      "source": [
        "Now that we have our attributes and labels, the next step is to split this data into training and test sets. We'll do this by using Scikit-Learn's built-in train_test_split() method:"
      ]
    },
    {
      "cell_type": "code",
      "metadata": {
        "colab": {
          "base_uri": "https://localhost:8080/"
        },
        "id": "ebzBp1pHn7m8",
        "outputId": "493d9a35-7529-4223-cf39-42cad4e3f633"
      },
      "source": [
        "\r\n",
        "X_train, X_test, y_train, y_test = train_test_split(X, y , train_size = 0.70, test_size = 0.30, random_state = 12)\r\n",
        "print('X_train: ', X_train.shape)\r\n",
        "print('X_test: ', X_test.shape)\r\n",
        "print('y_train: ', y_train.shape)\r\n",
        "print('y_test: ', y_test.shape)\r\n"
      ],
      "execution_count": null,
      "outputs": [
        {
          "output_type": "stream",
          "text": [
            "X_train:  (17, 1)\n",
            "X_test:  (8, 1)\n",
            "y_train:  (17,)\n",
            "y_test:  (8,)\n"
          ],
          "name": "stdout"
        }
      ]
    },
    {
      "cell_type": "markdown",
      "metadata": {
        "id": "rVgflqhSqWI5"
      },
      "source": [
        "##Model Building"
      ]
    },
    {
      "cell_type": "code",
      "metadata": {
        "colab": {
          "base_uri": "https://localhost:8080/"
        },
        "id": "_1SV6w7xpsDT",
        "outputId": "9936dd02-0e52-4391-ff80-4e6af3a84583"
      },
      "source": [
        "\r\n",
        "lr = LinearRegression()\r\n",
        "lr.fit(X_train , y_train)"
      ],
      "execution_count": null,
      "outputs": [
        {
          "output_type": "execute_result",
          "data": {
            "text/plain": [
              "LinearRegression(copy_X=True, fit_intercept=True, n_jobs=None, normalize=False)"
            ]
          },
          "metadata": {
            "tags": []
          },
          "execution_count": 28
        }
      ]
    },
    {
      "cell_type": "code",
      "metadata": {
        "colab": {
          "base_uri": "https://localhost:8080/"
        },
        "id": "MDsxgIILqoNX",
        "outputId": "f4550745-510b-447e-c87f-547fe6048d66"
      },
      "source": [
        "y_predict = lr.predict(X_test)\r\n",
        "print(y_predict)"
      ],
      "execution_count": null,
      "outputs": [
        {
          "output_type": "stream",
          "text": [
            "[74.97365707 56.40147769 62.26637644 52.49154519 89.63590396 83.7710052\n",
            " 36.85181518 13.39222016]\n"
          ],
          "name": "stdout"
        }
      ]
    },
    {
      "cell_type": "code",
      "metadata": {
        "colab": {
          "base_uri": "https://localhost:8080/"
        },
        "id": "fqO1MIA4q3Oq",
        "outputId": "69790238-3184-42d1-89c4-7b759cff9b57"
      },
      "source": [
        "print(y_test)"
      ],
      "execution_count": null,
      "outputs": [
        {
          "output_type": "stream",
          "text": [
            "19    69\n",
            "7     60\n",
            "18    67\n",
            "1     47\n",
            "15    95\n",
            "8     81\n",
            "4     30\n",
            "14    17\n",
            "Name: Scores, dtype: int64\n"
          ],
          "name": "stdout"
        }
      ]
    },
    {
      "cell_type": "code",
      "metadata": {
        "colab": {
          "base_uri": "https://localhost:8080/"
        },
        "id": "Bhs1ZtJiA8Bb",
        "outputId": "6eb93453-855c-42ea-fb42-29fe8faf99aa"
      },
      "source": [
        "print(\"Coefficient Value: \", lr.coef_)\r\n",
        "print(\"Ïntercept Value: \", lr.intercept_)"
      ],
      "execution_count": null,
      "outputs": [
        {
          "output_type": "stream",
          "text": [
            "Coefficient Value:  [9.77483126]\n",
            "Ïntercept Value:  2.639905784194248\n"
          ],
          "name": "stdout"
        }
      ]
    },
    {
      "cell_type": "code",
      "metadata": {
        "colab": {
          "base_uri": "https://localhost:8080/",
          "height": 265
        },
        "id": "jh-xuP3DArds",
        "outputId": "7d5f0550-ca26-47d2-8985-a97d79fb8b54"
      },
      "source": [
        "# Plotting the regression line\r\n",
        "line = lr.coef_*X+lr.intercept_\r\n",
        "\r\n",
        "# Plotting for the test data\r\n",
        "plt.scatter(X, y)\r\n",
        "plt.plot(X, line);\r\n",
        "plt.show()"
      ],
      "execution_count": null,
      "outputs": [
        {
          "output_type": "display_data",
          "data": {
            "image/png": "[encoded data removed]",
            "text/plain": [
              "<Figure size 432x288 with 1 Axes>"
            ]
          },
          "metadata": {
            "tags": [],
            "needs_background": "light"
          }
        }
      ]
    },
    {
      "cell_type": "code",
      "metadata": {
        "colab": {
          "base_uri": "https://localhost:8080/"
        },
        "id": "FIzq88A0q7wV",
        "outputId": "f61574d9-53cd-4e74-8c31-d15cbba63156"
      },
      "source": [
        "data_1 = pd.DataFrame({'Actual Value': y_test, 'Predicted Value': y_predict,'Difference': (y_predict - y_test)})\r\n",
        "data_1"
      ],
      "execution_count": null,
      "outputs": [
        {
          "output_type": "stream",
          "text": [
            "    Actual Value  Predicted Value  Difference\n",
            "19            69        74.973657    5.973657\n",
            "7             60        56.401478   -3.598522\n",
            "18            67        62.266376   -4.733624\n",
            "1             47        52.491545    5.491545\n",
            "15            95        89.635904   -5.364096\n",
            "8             81        83.771005    2.771005\n",
            "4             30        36.851815    6.851815\n",
            "14            17        13.392220   -3.607780\n"
          ],
          "name": "stdout"
        }
      ]
    },
    {
      "cell_type": "markdown",
      "metadata": {
        "id": "hoCVCRb7s1xJ"
      },
      "source": [
        "###What will be predicted score if a student studies for 9.25 hrs/ day?"
      ]
    },
    {
      "cell_type": "code",
      "metadata": {
        "colab": {
          "base_uri": "https://localhost:8080/"
        },
        "id": "raxy__ZQs1Z4",
        "outputId": "8b3d339c-d4ea-4944-9e0f-4e98ff20287b"
      },
      "source": [
        "predict = lr.predict([[9.25]])\r\n",
        "print(predict)"
      ],
      "execution_count": null,
      "outputs": [
        {
          "output_type": "stream",
          "text": [
            "[93.0570949]\n"
          ],
          "name": "stdout"
        }
      ]
    },
    {
      "cell_type": "markdown",
      "metadata": {
        "id": "mEb77-ZCrfeQ"
      },
      "source": [
        "##Evaluate The Model "
      ]
    },
    {
      "cell_type": "markdown",
      "metadata": {
        "id": "0qEPVQxjXA3b"
      },
      "source": [
        "<p><img style=\"width:300px;height:400px;\" src = \"https://imgur.com/Z85Iylh.png\" alt = \"\"></p>"
      ]
    },
    {
      "cell_type": "code",
      "metadata": {
        "colab": {
          "base_uri": "https://localhost:8080/"
        },
        "id": "PGo5XrmfrOlC",
        "outputId": "f9236534-8959-4697-d1e8-1ac137688e93"
      },
      "source": [
        "\r\n",
        "\r\n",
        "print(\"Mean Absolute Error: \", mean_absolute_error(y_predict, y_test))\r\n",
        "print(\"Mean Squared Error: \", mean_squared_error(y_predict, y_test))\r\n",
        "print(\"Root Mean Squared Error(RMSE): \", np.sqrt(mean_squared_error(y_predict, y_test)))"
      ],
      "execution_count": null,
      "outputs": [
        {
          "output_type": "stream",
          "text": [
            "Mean Absolute Error:  4.7990055486547325\n",
            "Mean Squared Error:  24.701705618997128\n",
            "Root Mean Squared Error(RMSE):  4.97008104752801\n"
          ],
          "name": "stdout"
        }
      ]
    },
    {
      "cell_type": "markdown",
      "metadata": {
        "id": "XRg2AEVsLA45"
      },
      "source": [
        "### Inference: For 9.25 hours of study percentage expected is 93% ."
      ]
    },
    {
      "cell_type": "markdown",
      "metadata": {
        "id": "yHwPzy4DLPdJ"
      },
      "source": [
        "#Thank You!"
      ]
    },
    {
      "cell_type": "code",
      "metadata": {
        "id": "lUYk5atVr0jb"
      },
      "source": [
        ""
      ],
      "execution_count": null,
      "outputs": []
    }
  ]
}